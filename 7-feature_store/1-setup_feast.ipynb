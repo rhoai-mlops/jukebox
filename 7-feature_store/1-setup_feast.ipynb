{
 "cells": [
  {
   "cell_type": "markdown",
   "metadata": {},
   "source": [
    "## 🧮 Features Fun with Feast\n",
    "\n",
    "In machine learning, models rely on well-defined **features**—structured data points that help predict outcomes. But managing these features across different projects and environments can quickly become complex. How do you ensure consistency between training and inference? How do you version and share features across teams?\n",
    "\n",
    "This is where a **Feature Store** comes in. A Feature Store acts as a **centralized repository** for storing, processing, and serving machine learning features. It ensures that features are consistent, reusable, and efficiently retrieved for both training and real-time inference.\n",
    "\n",
    "### 🔍 What is Feast?\n",
    "\n",
    "**Feast (Feature Store)** is an open-source framework that simplifies feature management. It provides a **scalable and structured way** to store, retrieve, and serve features for machine learning models. By using Feast, organizations can:\n",
    "1. **Manage** feature definitions and metadata.\n",
    "2. **Store** features in offline and online databases.\n",
    "3. **Serve** features quickly for real-time predictions."
   ]
  },
  {
   "cell_type": "markdown",
   "metadata": {},
   "source": [
    "In this notebook, we will explore how to:\n",
    "1. Set up **Feast** and define feature sets.\n",
    "2. Materialize features from **offline** to **online stores**.\n",
    "3. Understand how we can manage features efficiently for **machine learning workflows**."
   ]
  },
  {
   "cell_type": "markdown",
   "metadata": {},
   "source": [
    "## ⚙️ Setting Up Feast\n",
    "\n",
    "Now that we understand what Feast is, it's time to set it up and explore how we can configure and interact with our **Feature Store**.\n",
    "\n",
    "Before diving into feature definitions and configurations, we first need to **install and import the necessary libraries and dependencies**. Let's get started!"
   ]
  },
  {
   "cell_type": "code",
   "execution_count": null,
   "metadata": {},
   "outputs": [],
   "source": [
    "!pip install -q -r requirements.txt"
   ]
  },
  {
   "cell_type": "code",
   "execution_count": 2,
   "metadata": {},
   "outputs": [],
   "source": [
    "import feast\n",
    "from datetime import datetime\n",
    "import yaml\n",
    "import sys, os"
   ]
  },
  {
   "cell_type": "markdown",
   "metadata": {},
   "source": [
    "### Feature Store configuration files"
   ]
  },
  {
   "cell_type": "markdown",
   "metadata": {},
   "source": [
    "Inside the `feature_repo` directory, we have several files that contain configurations and feature definitions.\n",
    "\n",
    "In `features.py`, we define the list of song features that will be used in our **Feature Store**, such as `energy`, `acousticness`, and others.\n",
    "\n",
    "On the other hand, Feast uses `feature_store.yaml` to configure the **Feature Store**. This file must be located at the root of a **feature repository**, in our case, the `feature_repo` directory."
   ]
  },
  {
   "cell_type": "code",
   "execution_count": 9,
   "metadata": {},
   "outputs": [],
   "source": [
    "sys.path.append(os.path.abspath('feature_repo/'))\n",
    "from features import music, song_properties\n",
    "from feature_service import song_properties_fs"
   ]
  },
  {
   "cell_type": "code",
   "execution_count": null,
   "metadata": {},
   "outputs": [],
   "source": [
    "with open('feature_repo/feature_store.yaml', 'r') as file:\n",
    "    fs_config_yaml = yaml.safe_load(file)\n",
    "\n",
    "fs_config = feast.repo_config.RepoConfig(**fs_config_yaml)\n",
    "fs = feast.FeatureStore(config=fs_config)"
   ]
  },
  {
   "cell_type": "markdown",
   "metadata": {},
   "source": [
    "### 🏗️ How does Feast work?\n",
    "\n",
    "Feast organizes features into three key components:\n",
    "- **📜 Registry:** A metadata store that keeps track of all feature definitions, sources, and entities.\n",
    "- **📂 Offline Store:** A long-term storage system that holds historical feature data for training models.\n",
    "- **⚡ Online Store:** A low-latency store optimized for real-time feature retrieval during inference."
   ]
  },
  {
   "cell_type": "code",
   "execution_count": null,
   "metadata": {},
   "outputs": [],
   "source": [
    "import yaml\n",
    "# Pretty-print the YAML configuration\n",
    "print(yaml.dump(fs_config_yaml, default_flow_style=False, sort_keys=False, indent=2))"
   ]
  },
  {
   "cell_type": "markdown",
   "metadata": {},
   "source": [
    "As mentioned earlier, Feast uses the `feature_store.yaml` file to [configure the Feature Store](https://docs.feast.dev/reference/feature-repository/feature-store-yaml#overview). If you examine the YAML configuration, you will recognize the three key components we just described.\n",
    "\n",
    "In our setup:\n",
    "- The **Registry** and **Online Store** are configured to use a **PostgreSQL database**.\n",
    "- The **Offline Store** is configured as a **file-based storage system**, which can be linked to an S3 bucket (in the `feature.py`, check the music_source that uses a s3 bucket as FileStore).\n",
    "\n",
    "This configuration ensures that features are efficiently stored, tracked, and served for both training and inference."
   ]
  },
  {
   "cell_type": "markdown",
   "metadata": {},
   "source": [
    "## 🎯 Features and Feature Values\n",
    "\n",
    "In machine learning, **features** are the key pieces of data used as input signals for predictive models. In the context of a dataset, we distinguish between:\n",
    "\n",
    "- **Feature:** A complete column in the dataset that represents a measurable property (e.g., \"energy\" or \"speechiness\" of a song).\n",
    "- **Feature Value:** A single data point from that feature column (e.g., the \"energy\" value for a specific song).\n",
    "\n",
    "Simply put, features provide the structured information that models use to make predictions. In our case, the **energy** and **speechiness** of a song are examples of features that could help determine whether a track becomes a hit."
   ]
  },
  {
   "cell_type": "markdown",
   "metadata": {},
   "source": [
    "## 🚀 Applying Feast\n",
    "\n",
    "Before using our features, we first need to **apply** them. This step registers all the feature definitions inside the `feature_repo` with our **Feast registry**.\n",
    "\n",
    "In our setup, the registry is stored in a **PostgreSQL database**, which acts as a central metadata store. By applying Feast, we ensure that all feature definitions are properly cataloged and ready to be fetched from the offline store or served in real-time from the online store."
   ]
  },
  {
   "cell_type": "code",
   "execution_count": 5,
   "metadata": {},
   "outputs": [],
   "source": [
    "fs.apply([song_properties_fs, music, song_properties])"
   ]
  },
  {
   "cell_type": "markdown",
   "metadata": {},
   "source": [
    "## Materialize our features\n",
    "Next step is to materialize the features, what this does is move the features from the offline store into the online store.\n",
    "Specifically, we move a subset of the features, the ones that's within a defined timeframe and we only store the latest features inside the online store."
   ]
  },
  {
   "cell_type": "code",
   "execution_count": null,
   "metadata": {},
   "outputs": [],
   "source": [
    "fs.materialize(start_date=datetime(2023, 1, 1), end_date=datetime.now())"
   ]
  },
  {
   "cell_type": "markdown",
   "metadata": {},
   "source": [
    "## Next step\n",
    "Now that we have set up Feast, let's start using it!\n",
    "Go to the next notebook to see how we can fetch training features: [2-test_load_historitcal_features.ipynb](2-test_load_historitcal_features.ipynb)"
   ]
  }
 ],
 "metadata": {
  "kernelspec": {
   "display_name": "Python 3.11",
   "language": "python",
   "name": "python3"
  },
  "language_info": {
   "codemirror_mode": {
    "name": "ipython",
    "version": 3
   },
   "file_extension": ".py",
   "mimetype": "text/x-python",
   "name": "python",
   "nbconvert_exporter": "python",
   "pygments_lexer": "ipython3",
   "version": "3.11.7"
  }
 },
 "nbformat": 4,
 "nbformat_minor": 4
}
